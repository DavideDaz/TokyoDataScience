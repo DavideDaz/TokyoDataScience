{
 "cells": [
  {
   "cell_type": "markdown",
   "metadata": {},
   "source": [
    "[![Open In Colab](https://colab.research.google.com/assets/colab-badge.svg)](https://colab.research.google.com/github/DavideDaz/TokyoDataScience/blob/master/Assignments/Gradient%20Descent%20Assignment/Basis%20Neural%20Network%20-%20Quadratic%20-%20AdaGrad.ipynb)"
   ]
  },
  {
   "cell_type": "code",
   "execution_count": 1,
   "metadata": {},
   "outputs": [],
   "source": [
    "import numpy as np\n",
    "import matplotlib.pyplot as plt\n",
    "from mpl_toolkits.mplot3d import Axes3D"
   ]
  },
  {
   "cell_type": "code",
   "execution_count": 2,
   "metadata": {},
   "outputs": [],
   "source": [
    "observations = 100 # m\n",
    "\n",
    "x_i =np.random.uniform(low=0, high=10, size=(observations,1))\n",
    "x_i = np.sort(x_i, axis=0)"
   ]
  },
  {
   "cell_type": "code",
   "execution_count": 3,
   "metadata": {},
   "outputs": [],
   "source": [
    "noise = np.random.uniform(-100,100,(observations,1))\n",
    "alfa_true = 2\n",
    "beta_true = 3\n",
    "gamma_true = 8\n",
    "targets = alfa_true + x_i*beta_true + gamma_true*x_i*x_i + noise "
   ]
  },
  {
   "cell_type": "markdown",
   "metadata": {},
   "source": [
    "## Gradient Descent Solution:\n"
   ]
  },
  {
   "cell_type": "code",
   "execution_count": 4,
   "metadata": {},
   "outputs": [],
   "source": [
    "alfa_gd,beta_gd,gamma_gd = 0.10416243,0.17923125,0.12899188\n",
    "\n",
    "alfa_Ada,beta_Ada,gamma_Ada = 0.10416243,0.17923125,0.12899188\n",
    "\n",
    "loss_SGD, loss_AdaGrad = [],[]\n",
    "\n",
    "learning_rate = 1\n",
    "\n",
    "r = np.zeros(3)\n",
    "\n",
    "eps = 10**(-8)\n",
    "\n",
    "Theta = np.array([0.17923125,0.10416243,0.12899188])"
   ]
  },
  {
   "cell_type": "code",
   "execution_count": 5,
   "metadata": {},
   "outputs": [],
   "source": [
    "for i in range(2000):\n",
    "    \n",
    "#     #SGD\n",
    "#     outputs = (x_i*x_i*gamma_gd) + (x_i*beta_gd) + alfa_gd\n",
    "#     deltas = outputs - targets\n",
    "    \n",
    "#     loss = sum(deltas**2)/2/observations\n",
    "#     loss_SGD.append(loss)\n",
    "    \n",
    "#     deltas_scaled = deltas/ observations\n",
    "    \n",
    "#     gamma_gd = gamma_gd - learning_rate * np.dot((x_i*x_i).T,deltas_scaled)\n",
    "#     beta_gd = beta_gd - learning_rate * np.dot(x_i.T,deltas_scaled)\n",
    "#     alfa_gd = alfa_gd - learning_rate * np.sum(deltas_scaled)\n",
    "    \n",
    "    #AdaGrad\n",
    "    \n",
    "    outputs_Ada = (x_i*x_i*Theta[2]) + (x_i*Theta[1]) + Theta[0]\n",
    "    deltas_Ada = outputs_Ada - targets\n",
    "    \n",
    "    loss_Ada = sum(deltas_Ada**2)/2/observations\n",
    "    loss_AdaGrad.append(loss_Ada[0])\n",
    "    \n",
    "    deltas_scaled_Ada = deltas_Ada/ observations\n",
    "    \n",
    "    g = np.array([np.sum(deltas_scaled_Ada),np.dot(x_i.T,deltas_scaled_Ada)[0][0],np.dot((x_i*x_i).T,deltas_scaled_Ada)[0][0]])\n",
    "    \n",
    "    r =np.add(r,np.multiply(g,g))\n",
    "    \n",
    "    \n",
    "    DeltaTheta = -np.multiply(np.divide(learning_rate,(eps + np.sqrt(r))),g)\n",
    "    \n",
    "    \n",
    "    Theta += DeltaTheta\n",
    "    "
   ]
  },
  {
   "cell_type": "code",
   "execution_count": 6,
   "metadata": {},
   "outputs": [
    {
     "name": "stdout",
     "output_type": "stream",
     "text": [
      "[4.83027915 5.83589582 7.51241634]\n"
     ]
    }
   ],
   "source": [
    "#print(alfa_gd,beta_gd, gamma_gd)\n",
    "print(Theta)"
   ]
  },
  {
   "cell_type": "code",
   "execution_count": 7,
   "metadata": {},
   "outputs": [],
   "source": [
    "#y_GD = alfa_gd + beta_gd*x_i + gamma_gd*x_i*x_i\n",
    "y_Ada = Theta[0] + Theta[1]*x_i + Theta[2]*x_i*x_i"
   ]
  },
  {
   "cell_type": "code",
   "execution_count": 8,
   "metadata": {},
   "outputs": [
    {
     "data": {
      "text/plain": [
       "Text(0, 0.5, 'y')"
      ]
     },
     "execution_count": 8,
     "metadata": {},
     "output_type": "execute_result"
    },
    {
     "data": {
      "image/png": "[encoded data removed]",
      "text/plain": [
       "<Figure size 432x288 with 1 Axes>"
      ]
     },
     "metadata": {
      "needs_background": "light"
     },
     "output_type": "display_data"
    }
   ],
   "source": [
    "%matplotlib inline\n",
    "plt.scatter(x_i, targets, marker='o', color='black' )\n",
    "#plt.plot(x_i,y_GD, color='red',linewidth=4)\n",
    "plt.plot(x_i,y_Ada, color='green',linewidth=2)\n",
    "plt.legend(('lr=1','targets'),loc='lower right')\n",
    "plt.xlabel('x')\n",
    "plt.ylabel('y')"
   ]
  },
  {
   "cell_type": "code",
   "execution_count": 9,
   "metadata": {},
   "outputs": [
    {
     "data": {
      "text/plain": [
       "Text(0, 0.5, 'Loss')"
      ]
     },
     "execution_count": 9,
     "metadata": {},
     "output_type": "execute_result"
    },
    {
     "data": {
      "image/png": "[encoded data removed]",
      "text/plain": [
       "<Figure size 432x288 with 1 Axes>"
      ]
     },
     "metadata": {
      "needs_background": "light"
     },
     "output_type": "display_data"
    }
   ],
   "source": [
    "%matplotlib inline\n",
    "plt.plot(range(0,len(loss_AdaGrad)),loss_AdaGrad, color='magenta',linewidth=2,alpha=0.5)\n",
    "plt.legend(('AdaGrad lr =1',''),loc='upper right')\n",
    "plt.xlabel('Epochs')\n",
    "plt.ylabel('Loss')"
   ]
  },
  {
   "cell_type": "code",
   "execution_count": null,
   "metadata": {},
   "outputs": [],
   "source": []
  }
 ],
 "metadata": {
  "kernelspec": {
   "display_name": "Python 3",
   "language": "python",
   "name": "python3"
  },
  "language_info": {
   "codemirror_mode": {
    "name": "ipython",
    "version": 3
   },
   "file_extension": ".py",
   "mimetype": "text/x-python",
   "name": "python",
   "nbconvert_exporter": "python",
   "pygments_lexer": "ipython3",
   "version": "3.7.4"
  }
 },
 "nbformat": 4,
 "nbformat_minor": 2
}
