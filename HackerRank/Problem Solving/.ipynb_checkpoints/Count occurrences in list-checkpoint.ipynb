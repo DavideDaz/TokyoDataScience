{
 "cells": [
  {
   "cell_type": "code",
   "execution_count": 31,
   "metadata": {},
   "outputs": [],
   "source": [
    "a = [-4,-11,1,4, -19,1,7]"
   ]
  },
  {
   "cell_type": "code",
   "execution_count": 67,
   "metadata": {},
   "outputs": [],
   "source": [
    "def plusMinus(arr):\n",
    "  \n",
    "    denominator = len(arr)\n",
    "\n",
    "    numerator = [0,0,0]\n",
    "    fraction = [0.0,0.0,0.0]\n",
    "\n",
    "    for i in range(0,denominator):\n",
    "        if arr[i]==0:\n",
    "            numerator[2] +=1\n",
    "        elif arr[i]< 0:\n",
    "            numerator[1] +=1\n",
    "        else:\n",
    "            numerator[0] +=1 \n",
    "\n",
    "    for i in range(0,3):  \n",
    "        fraction[i] = round(numerator[i]/denominator,6)              \n",
    "        print(fraction[i]) "
   ]
  },
  {
   "cell_type": "code",
   "execution_count": 68,
   "metadata": {},
   "outputs": [
    {
     "name": "stdout",
     "output_type": "stream",
     "text": [
      "0.571429\n",
      "0.428571\n",
      "0.0\n"
     ]
    }
   ],
   "source": [
    "plusMinus(a)"
   ]
  },
  {
   "cell_type": "code",
   "execution_count": null,
   "metadata": {},
   "outputs": [],
   "source": []
  }
 ],
 "metadata": {
  "kernelspec": {
   "display_name": "Python 3",
   "language": "python",
   "name": "python3"
  },
  "language_info": {
   "codemirror_mode": {
    "name": "ipython",
    "version": 3
   },
   "file_extension": ".py",
   "mimetype": "text/x-python",
   "name": "python",
   "nbconvert_exporter": "python",
   "pygments_lexer": "ipython3",
   "version": "3.7.3"
  }
 },
 "nbformat": 4,
 "nbformat_minor": 2
}
