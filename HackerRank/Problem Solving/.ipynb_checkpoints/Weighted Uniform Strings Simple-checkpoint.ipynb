{
 "cells": [
  {
   "cell_type": "code",
   "execution_count": 115,
   "metadata": {},
   "outputs": [],
   "source": [
    "def weightedUniformStrings(s, queries):\n",
    "    \n",
    "\n",
    "    unique = list(set(s))\n",
    "\n",
    "    sammy = {'a': 1, 'b':2, 'c':3, 'd':4, 'e':5, 'f':6, 'g':7, 'h':8, 'i':9, 'j':10, 'k':11,\n",
    "             'l':12, 'm':13, 'n':14, 'o':15, 'p':16, 'q':17, 'r':18, 's':19, 't':20, 'u':21, 'v':22, 'w':23,\n",
    "            'x':24, 'y':25,  'z':26}\n",
    "\n",
    "    length_string = len(s)\n",
    "\n",
    "    i = 0\n",
    "\n",
    "    strings_found = []\n",
    "    repetitions = []\n",
    "    while s:\n",
    "        for j in range(0,len(unique)):\n",
    "            occurrences = 0\n",
    "            string_to_find = unique[j]*length_string\n",
    "            if string_to_find in s:\n",
    "                strings_found.append(string_to_find)\n",
    "                repetitions.append(length_string)\n",
    "                occurrences = s.count(string_to_find)\n",
    "                start = s.find(string_to_find)\n",
    "                s = s[:start] + s[(start+len(string_to_find)):]\n",
    "            i += occurrences*length_string  \n",
    "        length_string -= 1  \n",
    "    \n",
    "        \n",
    "    weights =[]\n",
    "\n",
    "    for w in range(0,len(repetitions)):\n",
    "        for z in range(0,len(strings_found[w])):\n",
    "            weights.append(sammy[strings_found[w][0]]*(z+1))\n",
    "\n",
    "    for i in range(0,len(queries)):\n",
    "        if queries[i] in weights:\n",
    "            print ('Yes')\n",
    "        else:\n",
    "            print ('No')    \n"
   ]
  },
  {
   "cell_type": "code",
   "execution_count": 116,
   "metadata": {},
   "outputs": [],
   "source": [
    "prova = 'abccddde'\n",
    "\n",
    "queries = [1,3,12,5,9,10]"
   ]
  },
  {
   "cell_type": "code",
   "execution_count": 117,
   "metadata": {},
   "outputs": [
    {
     "name": "stdout",
     "output_type": "stream",
     "text": [
      "Yes\n",
      "Yes\n",
      "Yes\n",
      "Yes\n",
      "No\n",
      "No\n"
     ]
    }
   ],
   "source": [
    "weightedUniformStrings(prova,queries)"
   ]
  },
  {
   "cell_type": "code",
   "execution_count": null,
   "metadata": {},
   "outputs": [],
   "source": []
  }
 ],
 "metadata": {
  "kernelspec": {
   "display_name": "Python 3",
   "language": "python",
   "name": "python3"
  },
  "language_info": {
   "codemirror_mode": {
    "name": "ipython",
    "version": 3
   },
   "file_extension": ".py",
   "mimetype": "text/x-python",
   "name": "python",
   "nbconvert_exporter": "python",
   "pygments_lexer": "ipython3",
   "version": "3.7.3"
  }
 },
 "nbformat": 4,
 "nbformat_minor": 2
}
