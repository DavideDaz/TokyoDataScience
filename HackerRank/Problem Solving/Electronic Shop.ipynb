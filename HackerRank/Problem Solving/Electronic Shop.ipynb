{
 "cells": [
  {
   "cell_type": "code",
   "execution_count": 66,
   "metadata": {},
   "outputs": [],
   "source": [
    "k=[50, 60,79,80]\n",
    "d=[1, 2, 4]\n",
    "b=83"
   ]
  },
  {
   "cell_type": "code",
   "execution_count": 69,
   "metadata": {},
   "outputs": [],
   "source": [
    "def getMoneySpent(keyboards, drives, b):\n",
    "    \n",
    "    keyboards = list(filter(lambda x: x < b, keyboards))\n",
    "    drives = list(filter(lambda x: x < b, drives))\n",
    "    keyboards.sort()\n",
    "    drives.sort()\n",
    "    \n",
    "    if len(keyboards)>len(drives):\n",
    "        larger,smaller = keyboards,drives\n",
    "    else:\n",
    "        larger,smaller = drives,keyboards\n",
    "    price = 0    \n",
    "    i = (len(larger)-1)\n",
    "    while i>=0:\n",
    "        j=(len(smaller)-1)\n",
    "        while j>=0:\n",
    "            new_price = smaller[j]+larger[i]\n",
    "            if (new_price<=b and new_price>=price):\n",
    "                price=new_price   \n",
    "            j-=1\n",
    "        i-=1\n",
    "    if price == 0:\n",
    "        return -1\n",
    "    else:\n",
    "        return price"
   ]
  },
  {
   "cell_type": "code",
   "execution_count": 70,
   "metadata": {},
   "outputs": [
    {
     "data": {
      "text/plain": [
       "83"
      ]
     },
     "execution_count": 70,
     "metadata": {},
     "output_type": "execute_result"
    }
   ],
   "source": [
    "getMoneySpent(k,d,b)"
   ]
  },
  {
   "cell_type": "code",
   "execution_count": null,
   "metadata": {},
   "outputs": [],
   "source": []
  }
 ],
 "metadata": {
  "kernelspec": {
   "display_name": "Python 3",
   "language": "python",
   "name": "python3"
  },
  "language_info": {
   "codemirror_mode": {
    "name": "ipython",
    "version": 3
   },
   "file_extension": ".py",
   "mimetype": "text/x-python",
   "name": "python",
   "nbconvert_exporter": "python",
   "pygments_lexer": "ipython3",
   "version": "3.7.3"
  }
 },
 "nbformat": 4,
 "nbformat_minor": 2
}
