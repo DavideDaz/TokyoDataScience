{
 "cells": [
  {
   "cell_type": "code",
   "execution_count": 80,
   "metadata": {},
   "outputs": [],
   "source": [
    "a = 400\n",
    "b = 700"
   ]
  },
  {
   "cell_type": "code",
   "execution_count": 81,
   "metadata": {},
   "outputs": [],
   "source": [
    "def kaprekarNumbers(p, q):\n",
    "    \n",
    "    counter = 0\n",
    "    kaprekar_list = []\n",
    "    \n",
    "    for i in range(p,q+1):\n",
    "        squared = str(i*i)\n",
    "        d = int(len(squared)/2+0.5)\n",
    "        r = int(squared[(len(squared)-d):])\n",
    "        l = int(squared[:(len(squared)-d)]) if len(squared)>d else 0\n",
    "        \n",
    "        query = r+l\n",
    "        \n",
    "        if query == i:\n",
    "            kaprekar_list.append(i)\n",
    "            counter+=1\n",
    "            \n",
    "    \n",
    "    if counter == 0:\n",
    "        return('INVALID RANGE')\n",
    "    else:\n",
    "        for i in range(len(kaprekar_list)):\n",
    "            print(kaprekar_list[i],end =\" \")"
   ]
  },
  {
   "cell_type": "code",
   "execution_count": 82,
   "metadata": {},
   "outputs": [
    {
     "data": {
      "text/plain": [
       "'INVALID RANGE'"
      ]
     },
     "execution_count": 82,
     "metadata": {},
     "output_type": "execute_result"
    }
   ],
   "source": [
    "kaprekarNumbers(a,b)"
   ]
  },
  {
   "cell_type": "code",
   "execution_count": null,
   "metadata": {},
   "outputs": [],
   "source": []
  }
 ],
 "metadata": {
  "kernelspec": {
   "display_name": "Python 3",
   "language": "python",
   "name": "python3"
  },
  "language_info": {
   "codemirror_mode": {
    "name": "ipython",
    "version": 3
   },
   "file_extension": ".py",
   "mimetype": "text/x-python",
   "name": "python",
   "nbconvert_exporter": "python",
   "pygments_lexer": "ipython3",
   "version": "3.7.3"
  }
 },
 "nbformat": 4,
 "nbformat_minor": 2
}
