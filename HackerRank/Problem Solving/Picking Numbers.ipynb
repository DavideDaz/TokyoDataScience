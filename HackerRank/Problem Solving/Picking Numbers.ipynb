{
 "cells": [
  {
   "cell_type": "code",
   "execution_count": 127,
   "metadata": {},
   "outputs": [],
   "source": [
    "w=[4, 6, 5, 3, 3, 1]"
   ]
  },
  {
   "cell_type": "code",
   "execution_count": 140,
   "metadata": {},
   "outputs": [],
   "source": [
    "s=[1,2,2,2,2,2,2,3,3]"
   ]
  },
  {
   "cell_type": "code",
   "execution_count": 155,
   "metadata": {},
   "outputs": [],
   "source": [
    "z=[1,1,2,2,4,4,5,5,5,]"
   ]
  },
  {
   "cell_type": "code",
   "execution_count": 160,
   "metadata": {},
   "outputs": [],
   "source": [
    "q=[1, 2, 2, 3, 1, 2]"
   ]
  },
  {
   "cell_type": "code",
   "execution_count": 189,
   "metadata": {},
   "outputs": [],
   "source": [
    "l=[1,1,2,2,2,2,3,3,4]"
   ]
  },
  {
   "cell_type": "code",
   "execution_count": 195,
   "metadata": {},
   "outputs": [],
   "source": [
    "r=[66]*100"
   ]
  },
  {
   "cell_type": "code",
   "execution_count": 201,
   "metadata": {},
   "outputs": [],
   "source": [
    "from IPython.core.debugger import set_trace\n",
    "\n",
    "def pickingNumbers(a):\n",
    "    \n",
    "    a.sort()\n",
    "    \n",
    "    i = 0\n",
    "    max_lis =[]\n",
    "    lis = [a[0]]\n",
    "    j = i+1\n",
    "    while j < len(a):\n",
    "        if abs(lis[0]-a[j])<=1:\n",
    "            lis.append(a[j])   \n",
    "        else:\n",
    "            max_lis = (lis if len(lis)>=len(max_lis) else max_lis)\n",
    "            i=j\n",
    "            if abs(a[j-1]-a[j])==1:\n",
    "                ind = lis.index(a[j-1])\n",
    "                lis = lis[ind:]\n",
    "                lis.append(a[j])\n",
    "            else:\n",
    "                lis = [a[j]]\n",
    "        j+=1\n",
    "    i+=1     \n",
    "    max_lis = (lis if len(lis)>=len(max_lis) else max_lis)    \n",
    "        \n",
    "    return len(max_lis)\n",
    "        \n",
    "        "
   ]
  },
  {
   "cell_type": "code",
   "execution_count": 205,
   "metadata": {},
   "outputs": [
    {
     "data": {
      "text/plain": [
       "3"
      ]
     },
     "execution_count": 205,
     "metadata": {},
     "output_type": "execute_result"
    }
   ],
   "source": [
    "pickingNumbers(w)"
   ]
  },
  {
   "cell_type": "code",
   "execution_count": null,
   "metadata": {},
   "outputs": [],
   "source": []
  }
 ],
 "metadata": {
  "kernelspec": {
   "display_name": "Python 3",
   "language": "python",
   "name": "python3"
  },
  "language_info": {
   "codemirror_mode": {
    "name": "ipython",
    "version": 3
   },
   "file_extension": ".py",
   "mimetype": "text/x-python",
   "name": "python",
   "nbconvert_exporter": "python",
   "pygments_lexer": "ipython3",
   "version": "3.7.3"
  }
 },
 "nbformat": 4,
 "nbformat_minor": 2
}
