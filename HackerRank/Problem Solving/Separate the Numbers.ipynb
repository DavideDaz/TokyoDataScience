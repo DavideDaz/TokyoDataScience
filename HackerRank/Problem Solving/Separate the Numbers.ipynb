{
 "cells": [
  {
   "cell_type": "code",
   "execution_count": 9,
   "metadata": {},
   "outputs": [],
   "source": [
    "w = ['1234','91011','99100','101103','010203','13','1']"
   ]
  },
  {
   "cell_type": "code",
   "execution_count": 183,
   "metadata": {},
   "outputs": [],
   "source": [
    "b = ['99100']"
   ]
  },
  {
   "cell_type": "code",
   "execution_count": 189,
   "metadata": {},
   "outputs": [],
   "source": [
    "b= ['137667369137667370137667371',\n",
    "'137667369137667370137667361',\n",
    "'629730433629730434629730435',\n",
    "'629730433629730434629730335',\n",
    "'364360104364360105364360106',\n",
    "'364360104364360105364369106',\n",
    "'896528165896528166896528167',\n",
    "'896528165896528166896518167',\n",
    "'320198048320198049320198050',\n",
    "'320198048320198049320098050']"
   ]
  },
  {
   "cell_type": "code",
   "execution_count": 1,
   "metadata": {},
   "outputs": [],
   "source": [
    "q = ['137667369137667370137667371']"
   ]
  },
  {
   "cell_type": "code",
   "execution_count": 11,
   "metadata": {},
   "outputs": [],
   "source": [
    "from IPython.core.debugger import set_trace\n",
    "\n",
    "def separateNumbers(s):\n",
    "    k=0\n",
    "    while k <len(s):\n",
    "        counter=0\n",
    "        string = s[k]\n",
    "        ls = len(string)\n",
    "        a = 9 #(round((ls/2)+0.5) if ls>2 else 1)\n",
    "        while a >=1:\n",
    "#            set_trace()\n",
    "            counter = 0\n",
    "            ext2=ls\n",
    "            size = a\n",
    "            ext1=ext2-size\n",
    "            diff =1\n",
    "            first_digit = int(string[ext1])\n",
    "            while ext1>0 and ext1>=(size-1) and diff==1 and first_digit!=0:\n",
    "                number = int(string[(ext1):ext2])\n",
    "                if (len(str(number-1))<len(str(number))):\n",
    "                    number_to_compare =int(string[(ext1-(size-1)):(ext1)])\n",
    "                    ext2=ext1\n",
    "                    size=size-1\n",
    "                    ext1 = ext1-size\n",
    "                elif ext1==size-1:\n",
    "                    number_to_compare =int(string[(ext1-(size-1)):(ext1)])\n",
    "                    ext2=ext1\n",
    "                    size=size-1\n",
    "                    ext1 = ext1-size\n",
    "                else:\n",
    "                    number_to_compare =int(string[(ext1-(size)):(ext1)])\n",
    "                    ext2=(ext1)\n",
    "                    ext1 = ext1-size   \n",
    "                diff = number-number_to_compare\n",
    "            if diff==1 and ext1==0 and ls>1 and number_to_compare!=0:\n",
    "                print('YES ', number_to_compare)\n",
    "                a=0\n",
    "                counter =1    \n",
    "            a-=1   \n",
    "        if counter==0:\n",
    "            print('NO')\n",
    "        k+=1\n",
    "\n",
    "        \n",
    "    \n",
    "    \n",
    "            "
   ]
  },
  {
   "cell_type": "code",
   "execution_count": 12,
   "metadata": {},
   "outputs": [
    {
     "name": "stdout",
     "output_type": "stream",
     "text": [
      "YES  137667369\n"
     ]
    }
   ],
   "source": [
    "separateNumbers(q)"
   ]
  },
  {
   "cell_type": "code",
   "execution_count": null,
   "metadata": {},
   "outputs": [],
   "source": []
  }
 ],
 "metadata": {
  "kernelspec": {
   "display_name": "Python 3",
   "language": "python",
   "name": "python3"
  },
  "language_info": {
   "codemirror_mode": {
    "name": "ipython",
    "version": 3
   },
   "file_extension": ".py",
   "mimetype": "text/x-python",
   "name": "python",
   "nbconvert_exporter": "python",
   "pygments_lexer": "ipython3",
   "version": "3.7.3"
  }
 },
 "nbformat": 4,
 "nbformat_minor": 2
}
