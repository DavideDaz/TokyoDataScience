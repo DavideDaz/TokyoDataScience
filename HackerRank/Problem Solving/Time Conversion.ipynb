{
 "cells": [
  {
   "cell_type": "code",
   "execution_count": 121,
   "metadata": {},
   "outputs": [],
   "source": [
    "def timeConversion(s):\n",
    "    \n",
    "    separator = ':'\n",
    "    \n",
    "    time = s.split(separator)\n",
    "    \n",
    "    if ('12' in time[0] and 'AM' in time[2]):\n",
    "        time = s.split(separator)\n",
    "        time[2]= time[2].replace('AM','')\n",
    "        time[0] = int(time[0])\n",
    "        time[0] -=12\n",
    "        time[0] = str(time[0])\n",
    "        if len(time[0]) == 1:\n",
    "            time[0] = '0'+ time[0]\n",
    "        return separator.join(time)        \n",
    "     \n",
    "    elif (time[0] != '12' and 'AM' in time[2]):\n",
    "        time = s.replace('AM','')\n",
    "        return time\n",
    "    \n",
    "    elif ('12' in time[0] and 'PM' in time[2]):\n",
    "        time = s.replace('PM','')\n",
    "        return time\n",
    "    \n",
    "    elif 'PM' in s:\n",
    "        time = s.split(separator)\n",
    "        time[2]= time[2].replace('PM','')\n",
    "        time[0] = int(time[0])\n",
    "        time[0] +=12\n",
    "        time[0] = str(time[0])\n",
    "        if len(time[0]) == 1:\n",
    "            time[0] = '0'+ time[0]\n",
    "        return separator.join(time)\n",
    "        "
   ]
  },
  {
   "cell_type": "code",
   "execution_count": 122,
   "metadata": {},
   "outputs": [],
   "source": [
    "time_AMPM = '12:00:01AM'"
   ]
  },
  {
   "cell_type": "code",
   "execution_count": 123,
   "metadata": {},
   "outputs": [
    {
     "data": {
      "text/plain": [
       "'00:00:01'"
      ]
     },
     "execution_count": 123,
     "metadata": {},
     "output_type": "execute_result"
    }
   ],
   "source": [
    "timeConversion(time_AMPM)"
   ]
  },
  {
   "cell_type": "code",
   "execution_count": null,
   "metadata": {},
   "outputs": [],
   "source": []
  }
 ],
 "metadata": {
  "kernelspec": {
   "display_name": "Python 3",
   "language": "python",
   "name": "python3"
  },
  "language_info": {
   "codemirror_mode": {
    "name": "ipython",
    "version": 3
   },
   "file_extension": ".py",
   "mimetype": "text/x-python",
   "name": "python",
   "nbconvert_exporter": "python",
   "pygments_lexer": "ipython3",
   "version": "3.7.3"
  }
 },
 "nbformat": 4,
 "nbformat_minor": 2
}
