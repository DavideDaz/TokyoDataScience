{
 "cells": [
  {
   "cell_type": "code",
   "execution_count": 1,
   "metadata": {},
   "outputs": [],
   "source": [
    "def weightedUniformStrings(s, queries):\n",
    "    \n",
    "\n",
    "    unique = list(set(s))\n",
    "    \n",
    "    length_string = len(s)\n",
    "\n",
    "    i = 0\n",
    "    \n",
    "    weights =[]\n",
    "    \n",
    "    length_subset = len(s)\n",
    "    \n",
    "    while i < len(unique):\n",
    "        string_to_find = unique[i]*length_subset\n",
    "        if string_to_find in s:\n",
    "            weights.append(string_to_find)\n",
    "            i += 1\n",
    "            length_subset = len(s)\n",
    "        else:\n",
    "            length_subset -= 1\n",
    "            \n",
    "    possible_values = []        \n",
    "\n",
    "    for i in range(0,len(weights)):\n",
    "        for j in range(0,len(weights[i])):\n",
    "            possible_values.append((ord(weights[i][0])-96)*(j+1))\n",
    "    \n",
    "    for i in range(0,len(queries)):\n",
    "        if queries[i] in possible_values:\n",
    "            print ('Yes')\n",
    "        else:\n",
    "            print ('No') \n",
    "        \n"
   ]
  },
  {
   "cell_type": "code",
   "execution_count": 2,
   "metadata": {},
   "outputs": [],
   "source": [
    "prova = 'abccddde'\n",
    "\n",
    "queries = [1,3,12,5,9,10]"
   ]
  },
  {
   "cell_type": "code",
   "execution_count": 3,
   "metadata": {},
   "outputs": [
    {
     "name": "stdout",
     "output_type": "stream",
     "text": [
      "Yes\n",
      "Yes\n",
      "Yes\n",
      "Yes\n",
      "No\n",
      "No\n"
     ]
    }
   ],
   "source": [
    "weightedUniformStrings(prova,queries)"
   ]
  },
  {
   "cell_type": "code",
   "execution_count": null,
   "metadata": {},
   "outputs": [],
   "source": []
  }
 ],
 "metadata": {
  "kernelspec": {
   "display_name": "Python 3",
   "language": "python",
   "name": "python3"
  },
  "language_info": {
   "codemirror_mode": {
    "name": "ipython",
    "version": 3
   },
   "file_extension": ".py",
   "mimetype": "text/x-python",
   "name": "python",
   "nbconvert_exporter": "python",
   "pygments_lexer": "ipython3",
   "version": "3.7.3"
  }
 },
 "nbformat": 4,
 "nbformat_minor": 2
}
