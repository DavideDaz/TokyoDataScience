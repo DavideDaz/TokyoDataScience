{
 "cells": [
  {
   "cell_type": "code",
   "execution_count": 20,
   "metadata": {},
   "outputs": [],
   "source": [
    "z = [[11,2,4],[4,5,6],[10,8,-12]]"
   ]
  },
  {
   "cell_type": "code",
   "execution_count": 53,
   "metadata": {},
   "outputs": [
    {
     "name": "stdout",
     "output_type": "stream",
     "text": [
      "[11, 5, -12] [4, 5, 10]\n"
     ]
    }
   ],
   "source": [
    "left_diag = []\n",
    "right_diag = []\n",
    "\n",
    "for i,j,k in zip(range(0,len(z)),range(0,len(z)),range(len(z)-1,-1,-1)):\n",
    "    left_diag.append(z[i][j])\n",
    "    right_diag.append(z[i][k])\n",
    "\n",
    "sum_left = sum(left_diag)\n",
    "sum_right = sum(right_diag)\n",
    "\n",
    "print(left_diag,right_diag)"
   ]
  },
  {
   "cell_type": "code",
   "execution_count": 50,
   "metadata": {},
   "outputs": [
    {
     "data": {
      "text/plain": [
       "2"
      ]
     },
     "execution_count": 50,
     "metadata": {},
     "output_type": "execute_result"
    }
   ],
   "source": [
    "abs(15-17)"
   ]
  },
  {
   "cell_type": "code",
   "execution_count": null,
   "metadata": {},
   "outputs": [],
   "source": []
  }
 ],
 "metadata": {
  "kernelspec": {
   "display_name": "Python 3",
   "language": "python",
   "name": "python3"
  },
  "language_info": {
   "codemirror_mode": {
    "name": "ipython",
    "version": 3
   },
   "file_extension": ".py",
   "mimetype": "text/x-python",
   "name": "python",
   "nbconvert_exporter": "python",
   "pygments_lexer": "ipython3",
   "version": "3.7.3"
  }
 },
 "nbformat": 4,
 "nbformat_minor": 2
}
