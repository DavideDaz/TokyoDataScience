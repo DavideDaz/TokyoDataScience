{
 "cells": [
  {
   "cell_type": "code",
   "execution_count": 58,
   "metadata": {},
   "outputs": [],
   "source": [
    "number = '10 40 30 50 20'\n",
    "freq = '1 2 3 4 5'\n",
    "\n",
    "number = number.split(' ')\n",
    "freq = freq.split(' ')\n",
    "\n",
    "for i in range(0,len(number)):\n",
    "     number[i] = int(number[i])\n",
    "     freq[i] = int(freq[i])\n",
    "\n",
    "freq_sorted = [x for _,x in sorted(zip(number,freq))]\n",
    "number_sorted =sorted(number)"
   ]
  },
  {
   "cell_type": "code",
   "execution_count": 59,
   "metadata": {},
   "outputs": [
    {
     "data": {
      "text/plain": [
       "[10, 20, 30, 40, 50]"
      ]
     },
     "execution_count": 59,
     "metadata": {},
     "output_type": "execute_result"
    }
   ],
   "source": [
    "number_sorted"
   ]
  },
  {
   "cell_type": "code",
   "execution_count": 60,
   "metadata": {},
   "outputs": [
    {
     "name": "stdout",
     "output_type": "stream",
     "text": [
      "[10, 20, 20, 20, 20, 20, 30, 30, 30, 40, 40, 50, 50, 50, 50]\n"
     ]
    }
   ],
   "source": [
    "data = []\n",
    "\n",
    "for i,val in enumerate(number_sorted):\n",
    "    data.extend(val for _ in range(freq_sorted[i]))\n",
    "    \n",
    "print(data)"
   ]
  },
  {
   "cell_type": "code",
   "execution_count": 61,
   "metadata": {},
   "outputs": [],
   "source": [
    "def median_f(data):\n",
    "    sorted_data = sorted(data)\n",
    "    if len(data)%2==0:\n",
    "        one = int(len(data)/2)\n",
    "        two = one-1\n",
    "        median=round((sorted_data[one]+sorted_data[two])/2,1)\n",
    "        L = data[0:one]\n",
    "        R = data[one:]\n",
    "    else:\n",
    "        index = int(len(data)/2)\n",
    "        median = round(sorted_data[int(len(data)/2)],1)\n",
    "        L = data[0:index]\n",
    "        R = data[(index+1):]\n",
    "    return median,L,R"
   ]
  },
  {
   "cell_type": "code",
   "execution_count": 62,
   "metadata": {},
   "outputs": [],
   "source": [
    "q2,L1,R1 = median_f(data)\n",
    "\n",
    "\n",
    "q1,L2,R2 = median_f(L1)\n",
    "q3,L3,R3 = median_f(R1)\n"
   ]
  },
  {
   "cell_type": "code",
   "execution_count": 63,
   "metadata": {},
   "outputs": [
    {
     "name": "stdout",
     "output_type": "stream",
     "text": [
      "20\n",
      "30\n",
      "50\n"
     ]
    }
   ],
   "source": [
    "print(q1)\n",
    "print(q2)\n",
    "print(q3)"
   ]
  },
  {
   "cell_type": "code",
   "execution_count": 64,
   "metadata": {},
   "outputs": [
    {
     "name": "stdout",
     "output_type": "stream",
     "text": [
      "30.0\n"
     ]
    }
   ],
   "source": [
    "print(\"%.1f\" % (q3-q1))"
   ]
  },
  {
   "cell_type": "code",
   "execution_count": null,
   "metadata": {},
   "outputs": [],
   "source": []
  }
 ],
 "metadata": {
  "kernelspec": {
   "display_name": "Python 3",
   "language": "python",
   "name": "python3"
  },
  "language_info": {
   "codemirror_mode": {
    "name": "ipython",
    "version": 3
   },
   "file_extension": ".py",
   "mimetype": "text/x-python",
   "name": "python",
   "nbconvert_exporter": "python",
   "pygments_lexer": "ipython3",
   "version": "3.7.4"
  }
 },
 "nbformat": 4,
 "nbformat_minor": 2
}
